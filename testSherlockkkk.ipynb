{
 "cells": [
  {
   "cell_type": "code",
   "execution_count": 3,
   "id": "d0acbd81-4bf0-4579-9cf1-7329a1a48093",
   "metadata": {
    "scrolled": true
   },
   "outputs": [],
   "source": [
    "import os\n",
    "import collections\n",
    "import nltk\n",
    "from nltk.corpus import stopwords\n",
    "os.chdir(r\"D:\\pythonProjects\\txtForNlp\")"
   ]
  },
  {
   "cell_type": "code",
   "execution_count": 4,
   "id": "2d2de517-1192-49a3-8d5a-4a739e6a180a",
   "metadata": {},
   "outputs": [
    {
     "data": {
      "text/plain": [
       "'D:\\\\pythonProjects\\\\txtForNlp'"
      ]
     },
     "execution_count": 4,
     "metadata": {},
     "output_type": "execute_result"
    }
   ],
   "source": [
    "os.getcwd()"
   ]
  },
  {
   "cell_type": "code",
   "execution_count": 5,
   "id": "3cb37eb7-e957-465b-ae4b-c2854efe5225",
   "metadata": {},
   "outputs": [
    {
     "data": {
      "text/plain": [
       "['.ipynb_checkpoints',\n",
       " '.virtual_documents',\n",
       " 'shelock.txt',\n",
       " 'testSherlockkkk.ipynb',\n",
       " 'Untitled.ipynb',\n",
       " 'Untitled1.ipynb']"
      ]
     },
     "execution_count": 5,
     "metadata": {},
     "output_type": "execute_result"
    }
   ],
   "source": [
    "os.listdir()"
   ]
  },
  {
   "cell_type": "code",
   "execution_count": 6,
   "id": "9a747418-2825-4284-a926-2322b44d446e",
   "metadata": {
    "scrolled": true
   },
   "outputs": [
    {
     "name": "stderr",
     "output_type": "stream",
     "text": [
      "[nltk_data] Downloading package punkt to\n",
      "[nltk_data]     C:\\Users\\egzin\\AppData\\Roaming\\nltk_data...\n",
      "[nltk_data]   Package punkt is already up-to-date!\n"
     ]
    },
    {
     "data": {
      "text/plain": [
       "True"
      ]
     },
     "execution_count": 6,
     "metadata": {},
     "output_type": "execute_result"
    }
   ],
   "source": [
    "with open(\"shelock.txt\") as f:\n",
    "    text = f.read()\n",
    "nltk.download(\"punkt\")"
   ]
  },
  {
   "cell_type": "code",
   "execution_count": 7,
   "id": "9ebb0cd9-a33b-45c5-981b-24e4ba8b0c3b",
   "metadata": {},
   "outputs": [],
   "source": [
    "tokenizer = nltk.data.load('tokenizers/punkt/english.pickle')"
   ]
  },
  {
   "cell_type": "code",
   "execution_count": 8,
   "id": "367c63f3-6357-49ff-8448-3184f91ec46b",
   "metadata": {},
   "outputs": [],
   "source": [
    "sentence_nltk = tokenizer.tokenize(text)"
   ]
  },
  {
   "cell_type": "code",
   "execution_count": 9,
   "id": "b77b047a-e6e7-4f06-a9ba-070c38027740",
   "metadata": {},
   "outputs": [
    {
     "name": "stdout",
     "output_type": "stream",
     "text": [
      "If you are not located in the United States,\n",
      "you will have to check the laws of the country where you are located\n",
      "before using this eBook.\n"
     ]
    }
   ],
   "source": [
    "print(sentence_nltk[2])"
   ]
  },
  {
   "cell_type": "code",
   "execution_count": 10,
   "id": "d07f49be-1308-4ca2-889f-f2166c948f7a",
   "metadata": {},
   "outputs": [
    {
     "name": "stderr",
     "output_type": "stream",
     "text": [
      "[nltk_data] Downloading package stopwords to\n",
      "[nltk_data]     C:\\Users\\egzin\\AppData\\Roaming\\nltk_data...\n",
      "[nltk_data]   Package stopwords is already up-to-date!\n"
     ]
    },
    {
     "data": {
      "text/plain": [
       "True"
      ]
     },
     "execution_count": 10,
     "metadata": {},
     "output_type": "execute_result"
    }
   ],
   "source": [
    "words =nltk.word_tokenize(text.lower())\n",
    "from collections import Counter\n",
    "words = [w for w in words if w.isalpha()]\n",
    "\n",
    "nltk.download(\"stopwords\")\n"
   ]
  },
  {
   "cell_type": "code",
   "execution_count": 11,
   "id": "c4b6da5e-acc1-45f9-9022-002879d9a491",
   "metadata": {},
   "outputs": [
    {
     "name": "stdout",
     "output_type": "stream",
     "text": [
      "['ï', 'project', 'gutenberg', 'ebook', 'adventures', 'sherlock', 'holmes', 'ebook', 'use', 'anyone', 'anywhere', 'united', 'states', 'parts', 'world', 'cost', 'almost', 'restrictions', 'whatsoever', 'may', 'copy', 'give', 'away', 'terms', 'project', 'gutenberg', 'license', 'included', 'ebook', 'online', 'located', 'united', 'states', 'check', 'laws', 'country', 'located', 'using', 'ebook', 'title', 'adventures', 'sherlock', 'holmes', 'author', 'arthur', 'conan', 'doyle', 'release', 'date', 'march']\n"
     ]
    }
   ],
   "source": [
    "stop_words = set(stopwords.words('english'))\n",
    "filtered = [word for word in words if word not in stop_words]\n",
    "count_words = Counter(filtered)\n",
    "print(filtered[:50])\n"
   ]
  },
  {
   "cell_type": "code",
   "execution_count": 12,
   "id": "631fe2d6-caa3-43d9-9583-ac2eff329e36",
   "metadata": {
    "scrolled": true
   },
   "outputs": [
    {
     "name": "stdout",
     "output_type": "stream",
     "text": [
      "[('said', 485), ('upon', 466), ('holmes', 435), ('one', 350), ('would', 324), ('could', 286), ('man', 285), ('little', 268), ('see', 225), ('may', 208), ('us', 179), ('must', 171), ('shall', 171), ('think', 170), ('know', 163), ('come', 153), ('time', 148), ('came', 146), ('two', 140), ('door', 136), ('back', 134), ('face', 128), ('room', 126), ('might', 125), ('matter', 119), ('much', 118), ('way', 113), ('hand', 112), ('heard', 111), ('made', 108), ('house', 108), ('however', 107), ('found', 107), ('case', 106), ('away', 102), ('sherlock', 100), ('nothing', 98), ('never', 97), ('go', 97), ('good', 97), ('right', 96), ('well', 96), ('like', 94), ('say', 94), ('last', 91), ('morning', 91), ('tell', 90), ('quite', 90), ('saw', 89), ('long', 88), ('asked', 88), ('eyes', 87), ('took', 87), ('miss', 87), ('work', 86), ('project', 84), ('first', 83), ('left', 83), ('yet', 82), ('day', 82), ('every', 81), ('round', 81), ('young', 81), ('watson', 80), ('without', 80), ('small', 80), ('find', 80), ('side', 79), ('take', 78), ('still', 77), ('thought', 77), ('street', 76), ('make', 76), ('even', 72), ('light', 72)]\n"
     ]
    }
   ],
   "source": [
    "print(count_words.most_common(75))"
   ]
  },
  {
   "cell_type": "code",
   "execution_count": 13,
   "id": "c6286042-7ffd-4443-aea8-8bea7fd0bbea",
   "metadata": {
    "scrolled": true
   },
   "outputs": [
    {
     "name": "stdout",
     "output_type": "stream",
     "text": [
      "20\n"
     ]
    }
   ],
   "source": [
    "print(count_words.get(\"god\"))"
   ]
  },
  {
   "cell_type": "code",
   "execution_count": 14,
   "id": "9050352e-56c1-4ca2-a5a5-8101ae385042",
   "metadata": {},
   "outputs": [],
   "source": [
    "from nltk.stem import WordNetLemmatizer\n",
    "lemmatizer = WordNetLemmatizer()\n",
    "lemitzied = [lemmatizer.lemmatize(word) for word in filtered]\n"
   ]
  },
  {
   "cell_type": "code",
   "execution_count": null,
   "id": "dcc32b9c-3195-4e96-8dd1-5284773b4e28",
   "metadata": {},
   "outputs": [],
   "source": []
  },
  {
   "cell_type": "code",
   "execution_count": 15,
   "id": "f81a9922-56c0-4061-a7b9-e0be222870c6",
   "metadata": {},
   "outputs": [
    {
     "name": "stdout",
     "output_type": "stream",
     "text": [
      "ebook  →  ebook\n",
      "recently  →  recently\n",
      "updated  →  updated\n",
      "october  →  october\n",
      "language  →  language\n",
      "english  →  english\n",
      "credits  →  credit\n",
      "anonymous  →  anonymous\n",
      "project  →  project\n",
      "gutenberg  →  gutenberg\n",
      "volunteer  →  volunteer\n",
      "jose  →  jose\n",
      "menendez  →  menendez\n",
      "start  →  start\n",
      "project  →  project\n",
      "gutenberg  →  gutenberg\n",
      "ebook  →  ebook\n",
      "adventures  →  adventure\n",
      "sherlock  →  sherlock\n",
      "holmes  →  holmes\n",
      "adventures  →  adventure\n",
      "sherlock  →  sherlock\n",
      "holmes  →  holmes\n",
      "arthur  →  arthur\n",
      "conan  →  conan\n",
      "doyle  →  doyle\n",
      "contents  →  content\n",
      "scandal  →  scandal\n",
      "bohemia  →  bohemia\n",
      "ii  →  ii\n",
      "league  →  league\n",
      "iii  →  iii\n",
      "case  →  case\n",
      "identity  →  identity\n",
      "iv  →  iv\n",
      "boscombe  →  boscombe\n",
      "valley  →  valley\n",
      "mystery  →  mystery\n",
      "five  →  five\n",
      "orange  →  orange\n",
      "pips  →  pip\n",
      "vi  →  vi\n",
      "man  →  man\n",
      "twisted  →  twisted\n",
      "lip  →  lip\n",
      "vii  →  vii\n",
      "adventure  →  adventure\n",
      "blue  →  blue\n",
      "carbuncle  →  carbuncle\n",
      "viii  →  viii\n"
     ]
    }
   ],
   "source": [
    "for orig, lemma in list(zip(filtered, lemitzied))[50:100]:\n",
    "    print(f\"{orig}  →  {lemma}\")\n"
   ]
  },
  {
   "cell_type": "raw",
   "id": "a27bad21-a747-4358-83da-2e327f8bf8c4",
   "metadata": {},
   "source": []
  },
  {
   "cell_type": "code",
   "execution_count": 21,
   "id": "42ce0cb5-b99e-4816-b170-142238aa20c2",
   "metadata": {},
   "outputs": [],
   "source": [
    "mostcommon30 = count_words.most_common(30)"
   ]
  },
  {
   "cell_type": "code",
   "execution_count": 17,
   "id": "c92d638e-e318-4a0c-a73e-7e2536e53a55",
   "metadata": {},
   "outputs": [
    {
     "name": "stdout",
     "output_type": "stream",
     "text": [
      "[('said', 485), ('upon', 466), ('holmes', 435), ('one', 350), ('would', 324), ('could', 286), ('man', 285), ('little', 268), ('see', 225), ('may', 208), ('us', 179), ('must', 171), ('shall', 171), ('think', 170), ('know', 163), ('come', 153), ('time', 148), ('came', 146), ('two', 140), ('door', 136), ('back', 134), ('face', 128), ('room', 126), ('might', 125), ('matter', 119), ('much', 118), ('way', 113), ('hand', 112), ('heard', 111), ('made', 108)]\n"
     ]
    }
   ],
   "source": [
    "print(mostcommon30)"
   ]
  },
  {
   "cell_type": "code",
   "execution_count": 18,
   "id": "07d13efd-284f-42c3-8495-950e69c5c1da",
   "metadata": {},
   "outputs": [],
   "source": [
    "words, freqs = zip(*mostcommon30)"
   ]
  },
  {
   "cell_type": "code",
   "execution_count": 19,
   "id": "b693ac23-82fa-426f-8612-0904a484ae4f",
   "metadata": {},
   "outputs": [
    {
     "data": {
      "image/png": "[encoded data removed]",
      "text/plain": [
       "<Figure size 1000x600 with 1 Axes>"
      ]
     },
     "metadata": {},
     "output_type": "display_data"
    }
   ],
   "source": [
    "\n",
    "import matplotlib.pyplot as plt\n",
    "plt.figure(figsize=(10,6))\n",
    "plt.bar(words, freqs)\n",
    "plt.xticks(rotation=45)\n",
    "plt.title(\"Top 20 Most Common Words\")\n",
    "plt.xlabel(\"Words\")\n",
    "plt.ylabel(\"Frequency\")\n",
    "plt.show()"
   ]
  },
  {
   "cell_type": "code",
   "execution_count": 20,
   "id": "7b4bffc7-448b-40c3-a5aa-2eef3e3201f6",
   "metadata": {},
   "outputs": [
    {
     "name": "stdout",
     "output_type": "stream",
     "text": [
      "G:\\Stable\\py11env\\Scripts\\python.exe\n"
     ]
    }
   ],
   "source": [
    "import sys\n",
    "print(sys.executable)\n"
   ]
  },
  {
   "cell_type": "code",
   "execution_count": 22,
   "id": "f04f4777-f4da-44e8-b012-ac35054c0a4d",
   "metadata": {},
   "outputs": [
    {
     "data": {
      "image/png": "[encoded data removed]",
      "text/plain": [
       "<Figure size 1000x600 with 1 Axes>"
      ]
     },
     "metadata": {},
     "output_type": "display_data"
    }
   ],
   "source": [
    "\n",
    "from nltk.corpus import stopwords\n",
    "stop_words = set(stopwords.words(\"english\"))\n",
    "\n",
    "filtered_counts = [(w, c) for w, c in count_words.most_common(200) if w.lower() not in stop_words]\n",
    "words, freqs = zip(*filtered_counts[:20])\n",
    "\n",
    "plt.figure(figsize=(10,6))\n",
    "plt.bar(words, freqs)\n",
    "plt.xticks(rotation=45)\n",
    "plt.title(\"Top 20 Content Words (Stopwords Removed)\")\n",
    "plt.show()\n"
   ]
  },
  {
   "cell_type": "code",
   "execution_count": null,
   "id": "9f624d67-7687-41c9-b12e-f370322233ee",
   "metadata": {},
   "outputs": [],
   "source": []
  }
 ],
 "metadata": {
  "kernelspec": {
   "display_name": "Python (py11env)",
   "language": "python",
   "name": "myenv"
  },
  "language_info": {
   "codemirror_mode": {
    "name": "ipython",
    "version": 3
   },
   "file_extension": ".py",
   "mimetype": "text/x-python",
   "name": "python",
   "nbconvert_exporter": "python",
   "pygments_lexer": "ipython3",
   "version": "3.11.4"
  }
 },
 "nbformat": 4,
 "nbformat_minor": 5
}
